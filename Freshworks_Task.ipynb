{
 "cells": [
  {
   "cell_type": "code",
   "execution_count": 53,
   "metadata": {
    "ExecuteTime": {
     "end_time": "2020-12-28T10:49:48.822227Z",
     "start_time": "2020-12-28T10:49:48.818238Z"
    }
   },
   "outputs": [],
   "source": [
    "# Jayant Jain \n",
    "# Run the notebook to check the working.\n",
    "# Checked working on Win 10\n",
    "# Code takes care of all the errors mentioned and the corner cases"
   ]
  },
  {
   "cell_type": "code",
   "execution_count": 100,
   "metadata": {
    "ExecuteTime": {
     "end_time": "2020-12-28T11:21:00.159369Z",
     "start_time": "2020-12-28T11:21:00.155344Z"
    }
   },
   "outputs": [],
   "source": [
    "# Links for reference:\n",
    "# https://en.wikipedia.org/wiki/Key%E2%80%93value_database\n",
    "# https://www.w3schools.com/js/js_json_objects.asp\n",
    "# https://en.wikipedia.org/wiki/Thread_safety"
   ]
  },
  {
   "cell_type": "code",
   "execution_count": 48,
   "metadata": {
    "ExecuteTime": {
     "end_time": "2020-12-28T10:41:55.046601Z",
     "start_time": "2020-12-28T10:41:55.043607Z"
    }
   },
   "outputs": [],
   "source": [
    "import time\n",
    "import sys\n",
    "import threading \n",
    "from threading import*\n",
    "\n"
   ]
  },
  {
   "cell_type": "markdown",
   "metadata": {},
   "source": [
    "# Server"
   ]
  },
  {
   "cell_type": "code",
   "execution_count": 97,
   "metadata": {
    "ExecuteTime": {
     "end_time": "2020-12-28T11:19:43.375982Z",
     "start_time": "2020-12-28T11:19:43.372004Z"
    }
   },
   "outputs": [],
   "source": [
    "map={} # global data storage"
   ]
  },
  {
   "cell_type": "code",
   "execution_count": 52,
   "metadata": {
    "ExecuteTime": {
     "end_time": "2020-12-28T10:47:47.538134Z",
     "start_time": "2020-12-28T10:47:47.533148Z"
    }
   },
   "outputs": [],
   "source": [
    "def create(key,value,timeout=0):  # timeout provided in seconds \n",
    "    if key in map:\n",
    "        print(\"Error !! Key is already stored\") #error mmsg\n",
    "    else:\n",
    "        if(key.isalpha()):   # string key      #1073741824 bytes ==1 Gb   \n",
    "            if sys.getsizeof(map)<(1073741824) and sys.getsizeof(value)<=(16*1024): #Check file size<=1GB and Json obj size<=16kb \n",
    "                if timeout==0:\n",
    "                    l=[value,-1]\n",
    "                else:\n",
    "                    l=[value,time.time()+timeout]  #adding timeout incase its not zero\n",
    "                if len(key)<=32:# key is max of 32 chars\n",
    "                    map[key]=l \n",
    "            else:\n",
    "                print(\"Error !! Memory limit\")#error mssg\n",
    "        else:\n",
    "            print(\"Error !! Key should have alphabet only\")#error mssg\n"
   ]
  },
  {
   "cell_type": "code",
   "execution_count": 50,
   "metadata": {
    "ExecuteTime": {
     "end_time": "2020-12-28T10:43:19.289423Z",
     "start_time": "2020-12-28T10:43:19.283437Z"
    }
   },
   "outputs": [],
   "source": [
    "def delete(key):\n",
    "    if key not in map:\n",
    "        print(\"Error !! Key is not in Database\") #error mssg\n",
    "    else:\n",
    "        list=map[key]\n",
    "        if list[1]!=-1: # time to live parameter isnt -1(means its provided by user)\n",
    "            current_time=time.time()\n",
    "            if current_time<list[1]: #Expiry & current time compared\n",
    "                del map[key]\n",
    "                print(\"Success! key is now deleted\")\n",
    "            else:\n",
    "                print(\"Error !! time to live off  expired\") #error as time to live has expired so cant delete it\n",
    "        else:# time to live is -1 then just delete the key\n",
    "            del map[key]\n",
    "            print(\"Success! key is now deleted\")"
   ]
  },
  {
   "cell_type": "code",
   "execution_count": 49,
   "metadata": {
    "ExecuteTime": {
     "end_time": "2020-12-28T10:43:16.829011Z",
     "start_time": "2020-12-28T10:43:16.825053Z"
    }
   },
   "outputs": [],
   "source": [
    "def read(key):\n",
    "    if key not in map:\n",
    "        print(\"Error !! Key is not in Database\") #error mssg\n",
    "    else:\n",
    "        list=map[key]\n",
    "        if list[1]!=-1: # time to live parameter isnt -1(means its provided by user)\n",
    "            current_time=time.time()\n",
    "            if current_time<list[1]:#Expiry & current time compared\n",
    "                mapping=str(key)+\" : \"+str(list[0]) # Key - JSon pair returned from DB\n",
    "                return mapping\n",
    "            else:\n",
    "                print(\"Error !! time to live off  expired\") #error mssg\n",
    "        else:\n",
    "            mapping=str(key)+\" : \"+str(list[0])\n",
    "            return mapping\n"
   ]
  },
  {
   "cell_type": "markdown",
   "metadata": {},
   "source": [
    "# Client"
   ]
  },
  {
   "cell_type": "markdown",
   "metadata": {
    "ExecuteTime": {
     "end_time": "2020-12-28T11:10:41.302661Z",
     "start_time": "2020-12-28T11:10:41.299669Z"
    }
   },
   "source": [
    "## Testcase 1"
   ]
  },
  {
   "cell_type": "code",
   "execution_count": 89,
   "metadata": {
    "ExecuteTime": {
     "end_time": "2020-12-28T11:13:21.766609Z",
     "start_time": "2020-12-28T11:13:21.757670Z"
    }
   },
   "outputs": [
    {
     "name": "stdout",
     "output_type": "stream",
     "text": [
      "car : {'brand': 'Ford', 'model': 'Mustang', 'year': 1964}\n",
      "Money : [23, 12]\n",
      "Error !! Key is already stored\n",
      "Success! key is now deleted\n",
      "Success! key is now deleted\n",
      "Final datastore {'Money': [[23, 12], 1609154201.7596617]}\n"
     ]
    }
   ],
   "source": [
    "json1={  \"brand\": \"Ford\",\n",
    "  \"model\": \"Mustang\",\n",
    "  \"year\": 1964}\n",
    "\n",
    "create(\"car\",json1)\n",
    "#to create a key with key & json obj given and no time-to-live property\n",
    "\n",
    "json2=[23,12]\n",
    "create(\"Money\",json2,200) \n",
    "#to create a key with key & json obj given and with time-to-live property value given(number of seconds)\n",
    "\n",
    "print(read(\"car\"))\n",
    "#PRINTS key in Json object format 'key_name:value'\n",
    "\n",
    "print(read(\"Money\"))\n",
    "#PRINTS key in Json object format 'key_name:value' if the (time to live) is not expired else it throws an ERROR !\n",
    "\n",
    "json3={\"32\":\"google\"}\n",
    "create(\"car\",json3)\n",
    "#it returns an error since the key_name already present in datastore\n",
    " \n",
    "delete(\"car\")\n",
    "#it deletes the given key & json obj from datastore\n",
    "\n",
    "# #Using Multi threading\n",
    "json4=[\"New\",\"Year\"]\n",
    "thread1=Thread(target=(create),args=(\"moker\",json4)) #as per the operation\n",
    "thread1.start()\n",
    "thread2=Thread(target=(delete),args=(\"moker\",)) #as per the operation\n",
    "thread2.start()\n",
    "\n",
    "print(\"Final datastore\",map)"
   ]
  },
  {
   "cell_type": "markdown",
   "metadata": {
    "ExecuteTime": {
     "end_time": "2020-12-28T11:11:00.060356Z",
     "start_time": "2020-12-28T11:11:00.056367Z"
    }
   },
   "source": [
    "## Test Case 2"
   ]
  },
  {
   "cell_type": "code",
   "execution_count": 98,
   "metadata": {
    "ExecuteTime": {
     "end_time": "2020-12-28T11:19:45.538858Z",
     "start_time": "2020-12-28T11:19:45.533870Z"
    }
   },
   "outputs": [
    {
     "name": "stdout",
     "output_type": "stream",
     "text": [
      "Error !! Key is not in Database\n",
      "Error !! Key should have alphabet only\n",
      "Money : [23, 12]\n",
      "Final datastore {'Money': [[23, 12], 1609154395.5359027], 'TechCos': [{'10': 'FreshWork'}, -1]}\n"
     ]
    }
   ],
   "source": [
    "delete(\"just_key\")\n",
    "\n",
    "json1={  \"brand\": \"Ford\",\n",
    "  \"model\": \"Mustang\",\n",
    "  \"year\": 1964}\n",
    "\n",
    "create(\"cars24\",json1)\n",
    "#Error! as alphanumeric key with key & json obj given and no time-to-live property\n",
    "\n",
    "json2=[23,12]\n",
    "create(\"Money\",json2,10) \n",
    "#to create a key with key & json obj given and with time-to-live property value given(number of seconds) as just 10 secs\n",
    "\n",
    "print(read(\"Money\"))\n",
    "#PRINTS key in Json object format 'key_name:value' if the (time to live) is not expired else it throws an ERROR !\n",
    "\n",
    "json3={\"10\":\"FreshWork\"}\n",
    "create(\"TechCos\",json3)\n",
    "\n",
    " \n",
    "\n",
    "print(\"Final datastore\",map)"
   ]
  },
  {
   "cell_type": "code",
   "execution_count": 99,
   "metadata": {
    "ExecuteTime": {
     "end_time": "2020-12-28T11:20:23.862315Z",
     "start_time": "2020-12-28T11:20:23.858325Z"
    }
   },
   "outputs": [
    {
     "name": "stdout",
     "output_type": "stream",
     "text": [
      "Error !! time to live off  expired\n",
      "None\n"
     ]
    }
   ],
   "source": [
    "print(read(\"Money\"))\n",
    "# throws error as run after 10 sec(time to live expired)"
   ]
  }
 ],
 "metadata": {
  "kernelspec": {
   "display_name": "Python 3",
   "language": "python",
   "name": "python3"
  },
  "varInspector": {
   "cols": {
    "lenName": 16,
    "lenType": 16,
    "lenVar": 40
   },
   "kernels_config": {
    "python": {
     "delete_cmd_postfix": "",
     "delete_cmd_prefix": "del ",
     "library": "var_list.py",
     "varRefreshCmd": "print(var_dic_list())"
    },
    "r": {
     "delete_cmd_postfix": ") ",
     "delete_cmd_prefix": "rm(",
     "library": "var_list.r",
     "varRefreshCmd": "cat(var_dic_list()) "
    }
   },
   "types_to_exclude": [
    "module",
    "function",
    "builtin_function_or_method",
    "instance",
    "_Feature"
   ],
   "window_display": false
  }
 },
 "nbformat": 4,
 "nbformat_minor": 2
}
